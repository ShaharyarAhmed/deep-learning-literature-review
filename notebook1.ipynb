{
 "cells": [
  {
   "cell_type": "code",
   "execution_count": 1,
   "id": "d0d9a85f-bf44-499f-9902-dc4ba3adf90d",
   "metadata": {},
   "outputs": [],
   "source": [
    "import os\n",
    "import cv2\n",
    "import numpy as np\n",
    "import pandas as pd\n",
    "import uuid\n",
    "import shutil"
   ]
  },
  {
   "cell_type": "markdown",
   "id": "1ce31811-2d41-47a8-850a-70f4450ea343",
   "metadata": {},
   "source": [
    "Coverts green and white chessboard to black and white chessboard. it iterate all train, valid and test folders and add new Artifical black and white chessboard images based on orginal image with \"_bnw\" name in the same folder"
   ]
  },
  {
   "cell_type": "code",
   "execution_count": 2,
   "id": "8089948c-4714-42b2-b3ca-79d9a0ecff5b",
   "metadata": {},
   "outputs": [],
   "source": [
    "def change_to_black_and_white(image_path, output_path):\n",
    "\n",
    "    img_cv = cv2.imread(image_path)\n",
    "    hls = cv2.cvtColor(img_cv, cv2.COLOR_BGR2HLS)\n",
    "    lower_green = np.array([40, 40, 40])\n",
    "    upper_green = np.array([100, 255, 255])\n",
    "\n",
    "    hsv = cv2.cvtColor(img_cv, cv2.COLOR_BGR2HSV)\n",
    "    mask_green = cv2.inRange(hsv, lower_green, upper_green)\n",
    "    hls_modified = hls.copy()\n",
    "    hls_modified[mask_green > 0, 2] = 0\n",
    "    hls_modified[mask_green > 0, 0] = 0\n",
    "    result_bgr = cv2.cvtColor(hls_modified, cv2.COLOR_HLS2BGR)\n",
    "    result_rgb = cv2.cvtColor(result_bgr, cv2.COLOR_BGR2RGB)\n",
    "    Image.fromarray(result_rgb).save(output_path)\n",
    "\n",
    "folders=['train','valid','test']\n",
    "\n",
    "for folder in folders:\n",
    "    image_folder = f'Chess_pieces/{folder}/images'\n",
    "    txt_folder = f'Chess_pieces/{folder}/labels'\n",
    "    ann=pd.read_csv(f'Chess_pieces/{folder}/_annotations.csv')\n",
    "    files_name = [f for f in os.listdir(image_folder)]\n",
    "\n",
    "    for file_name in files_name:\n",
    "        original_image_path = os.path.join(image_folder, file_name)\n",
    "        original_txt_path = os.path.join(txt_folder, file_name.replace('.jpg', '.txt'))\n",
    "        if not os.path.exists(original_txt_path):\n",
    "            continue\n",
    "        new_name = str(uuid.uuid4())\n",
    "        new_image_path = os.path.join(image_folder, new_name+'.jpg')\n",
    "        new_txt_path = os.path.join(txt_folder, new_name+'.txt')\n",
    "\n",
    "        new_name_bnw = os.path.join(image_folder, new_name+'_bnw.jpg')\n",
    "        change_to_black_and_white(original_image_path, new_name_bnw)\n",
    "        new_name_bnw_txt = os.path.join(txt_folder, new_name+'_bnw.txt')\n",
    "    \n",
    "        os.rename(original_image_path, new_image_path)\n",
    "        os.rename(original_txt_path, new_txt_path)\n",
    "        shutil.copyfile(new_txt_path, new_name_bnw_txt)\n",
    "        ann.loc[ann['filename'] == file_name, 'filename'] = new_name+'.jpg'\n",
    "        bnw_row = ann.loc[ann['filename'] == new_name+'.jpg'].copy()\n",
    "        bnw_row['filename'] = new_name+'_bnw.jpg'\n",
    "        ann = pd.concat([ann, bnw_row], ignore_index=True)\n",
    "        \n",
    "\n",
    "    ann.to_csv(f'Chess_pieces/{folder}/_annotations.csv', index=False)\n",
    "    print(f'Folder {folder} done')"
   ]
  }
 ],
 "metadata": {
  "kernelspec": {
   "display_name": "Python [conda env:base] *",
   "language": "python",
   "name": "conda-base-py"
  },
  "language_info": {
   "codemirror_mode": {
    "name": "ipython",
    "version": 3
   },
   "file_extension": ".py",
   "mimetype": "text/x-python",
   "name": "python",
   "nbconvert_exporter": "python",
   "pygments_lexer": "ipython3",
   "version": "3.12.4"
  }
 },
 "nbformat": 4,
 "nbformat_minor": 5
}
