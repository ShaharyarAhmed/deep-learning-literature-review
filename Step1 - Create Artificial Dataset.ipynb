{
 "cells": [
  {
   "cell_type": "code",
   "execution_count": 1,
   "id": "93634d71",
   "metadata": {},
   "outputs": [],
   "source": [
    "import os\n",
    "import cv2\n",
    "import numpy as np\n",
    "import pandas as pd\n",
    "import uuid\n",
    "import shutil\n",
    "from PIL import Image\n",
    "import zipfile\n",
    "import requests"
   ]
  },
  {
   "cell_type": "code",
   "execution_count": 2,
   "id": "3039b2e5",
   "metadata": {},
   "outputs": [],
   "source": [
    "dataset_file=requests.get(\"https://github.com/ShaharyarAhmed/deep-learning-literature-review/raw/refs/heads/main/Chess_pieces.zip\").content\n",
    "with open(\"Chess_pieces.zip\", \"wb\") as f:\n",
    "    f.write(dataset_file)\n",
    "\n",
    "with zipfile.ZipFile(\"Chess_pieces.zip\", 'r') as zip_ref:\n",
    "    zip_ref.extractall()"
   ]
  },
  {
   "cell_type": "code",
   "execution_count": 3,
   "id": "a05cdf80",
   "metadata": {},
   "outputs": [],
   "source": [
    "def change_to_black_and_white(image_path, output_path):\n",
    "\n",
    "    img_cv = cv2.imread(image_path)\n",
    "    hls = cv2.cvtColor(img_cv, cv2.COLOR_BGR2HLS)\n",
    "    lower_green = np.array([40, 40, 40])\n",
    "    upper_green = np.array([100, 255, 255])\n",
    "\n",
    "    hsv = cv2.cvtColor(img_cv, cv2.COLOR_BGR2HSV)\n",
    "    mask_green = cv2.inRange(hsv, lower_green, upper_green)\n",
    "    hls_modified = hls.copy()\n",
    "    hls_modified[mask_green > 0, 2] = 0\n",
    "    hls_modified[mask_green > 0, 0] = 0\n",
    "    result_bgr = cv2.cvtColor(hls_modified, cv2.COLOR_HLS2BGR)\n",
    "    result_rgb = cv2.cvtColor(result_bgr, cv2.COLOR_BGR2RGB)\n",
    "    Image.fromarray(result_rgb).save(output_path)\n"
   ]
  },
  {
   "cell_type": "code",
   "execution_count": 4,
   "id": "cfc7f741",
   "metadata": {},
   "outputs": [
    {
     "name": "stdout",
     "output_type": "stream",
     "text": [
      "Folder train done\n",
      "Folder valid done\n",
      "Folder test done\n"
     ]
    }
   ],
   "source": [
    "folders=['train','valid','test']\n",
    "for folder in folders:\n",
    "    image_folder = f'Chess_pieces/{folder}/images'\n",
    "    txt_folder = f'Chess_pieces/{folder}/labels'\n",
    "    files_name = [f for f in os.listdir(image_folder)]\n",
    "\n",
    "    for file_name in files_name:\n",
    "        original_image_path = os.path.join(image_folder, file_name)\n",
    "        original_txt_path = os.path.join(txt_folder, file_name.replace('.jpg', '.txt'))\n",
    "        if not os.path.exists(original_txt_path):\n",
    "            continue\n",
    "        new_name = str(uuid.uuid4())\n",
    "        new_image_path = os.path.join(image_folder, new_name+'.jpg')\n",
    "        new_txt_path = os.path.join(txt_folder, new_name+'.txt')\n",
    "\n",
    "        new_name_bnw = os.path.join(image_folder, new_name+'_bnw.jpg')\n",
    "        change_to_black_and_white(original_image_path, new_name_bnw)\n",
    "        new_name_bnw_txt = os.path.join(txt_folder, new_name+'_bnw.txt')\n",
    "    \n",
    "        os.rename(original_image_path, new_image_path)\n",
    "        os.rename(original_txt_path, new_txt_path)\n",
    "        shutil.copyfile(new_txt_path, new_name_bnw_txt)\n",
    "        \n",
    "\n",
    "    print(f'Folder {folder} done')\n"
   ]
  }
 ],
 "metadata": {
  "kaggle": {
   "accelerator": "nvidiaTeslaT4",
   "dataSources": [
    {
     "datasetId": 4369583,
     "sourceId": 7529580,
     "sourceType": "datasetVersion"
    }
   ],
   "dockerImageVersionId": 30648,
   "isGpuEnabled": true,
   "isInternetEnabled": true,
   "language": "python",
   "sourceType": "notebook"
  },
  "kernelspec": {
   "display_name": "torch_latest",
   "language": "python",
   "name": "python3"
  },
  "language_info": {
   "codemirror_mode": {
    "name": "ipython",
    "version": 3
   },
   "file_extension": ".py",
   "mimetype": "text/x-python",
   "name": "python",
   "nbconvert_exporter": "python",
   "pygments_lexer": "ipython3",
   "version": "3.12.8"
  },
  "papermill": {
   "default_parameters": {},
   "duration": 501.869356,
   "end_time": "2024-02-02T09:18:20.060842",
   "environment_variables": {},
   "exception": null,
   "input_path": "__notebook__.ipynb",
   "output_path": "__notebook__.ipynb",
   "parameters": {},
   "start_time": "2024-02-02T09:09:58.191486",
   "version": "2.5.0"
  }
 },
 "nbformat": 4,
 "nbformat_minor": 5
}
